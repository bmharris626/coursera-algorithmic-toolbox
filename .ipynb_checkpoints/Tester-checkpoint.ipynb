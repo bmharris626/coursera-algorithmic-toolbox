{
 "cells": [
  {
   "cell_type": "code",
   "execution_count": 10,
   "metadata": {
    "collapsed": true
   },
   "outputs": [],
   "source": [
    "n = 10000\n",
    "a = [i for i in range(n)]"
   ]
  },
  {
   "cell_type": "code",
   "execution_count": 5,
   "metadata": {},
   "outputs": [
    {
     "name": "stdout",
     "output_type": "stream",
     "text": [
      "answer:  99970002\n",
      "CPU times: user 12.2 s, sys: 12.9 ms, total: 12.2 s\n",
      "Wall time: 12.2 s\n"
     ]
    }
   ],
   "source": [
    "%%time\n",
    "\n",
    "result = 0\n",
    "for i in range(0, n):\n",
    "    for j in range(i+1, n):\n",
    "        if a[i]*a[j] > result:\n",
    "            result = a[i]*a[j]\n",
    "            \n",
    "print(\"answer: \", result)"
   ]
  },
  {
   "cell_type": "code",
   "execution_count": 16,
   "metadata": {},
   "outputs": [
    {
     "name": "stdout",
     "output_type": "stream",
     "text": [
      "answer:  99970002\n",
      "CPU times: user 2.51 ms, sys: 476 µs, total: 2.98 ms\n",
      "Wall time: 2.62 ms\n"
     ]
    }
   ],
   "source": [
    "%%time\n",
    "\n",
    "i, j = 0, 0\n",
    "for x in a:\n",
    "    if x > i:\n",
    "        j = i\n",
    "        i = x\n",
    "\n",
    "print(\"answer: \", i*j)"
   ]
  },
  {
   "cell_type": "code",
   "execution_count": null,
   "metadata": {
    "collapsed": true
   },
   "outputs": [],
   "source": []
  }
 ],
 "metadata": {
  "kernelspec": {
   "display_name": "Python 3",
   "language": "python",
   "name": "python3"
  }
 },
 "nbformat": 4,
 "nbformat_minor": 2
}
