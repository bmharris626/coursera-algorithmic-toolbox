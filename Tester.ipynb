{
 "cells": [
  {
   "cell_type": "code",
   "execution_count": 2,
   "metadata": {
    "collapsed": true
   },
   "outputs": [],
   "source": [
    "import random"
   ]
  },
  {
   "cell_type": "code",
   "execution_count": 129,
   "metadata": {},
   "outputs": [],
   "source": [
    "def naive_gcd(a, b):\n",
    "    best = 0\n",
    "    for d in range(1, a + b + 1):\n",
    "        if (a % d == 0) and (b % d == 0):\n",
    "            best = d\n",
    "    return best\n",
    "\n",
    "def euclid_gcd(a, b):\n",
    "    assert a > b\n",
    "    if b == 0: return a\n",
    "    return euclid_gcd(b, a % b)"
   ]
  },
  {
   "cell_type": "code",
   "execution_count": 116,
   "metadata": {},
   "outputs": [],
   "source": [
    "def stress_test(mx, nx, ax):\n",
    "    i = 0\n",
    "    while True:\n",
    "        n = random.randint(0, nx) + 2\n",
    "        print(n)\n",
    "        a = [random.randint(0, ax) for i in range(n)]\n",
    "        print(a)\n",
    "        res1 = MaxPairwiseProduct(a)\n",
    "        res2 = MaxPairwiseProduct_fast(a)\n",
    "        if (res1[1] != res2[1]):\n",
    "            print(\"Wrong answer:\", res1, res2)\n",
    "            break\n",
    "        elif i == mx: break;\n",
    "        else: print(\"OK\")\n",
    "        i += 1\n"
   ]
  }
 ],
 "metadata": {
  "kernelspec": {
   "display_name": "Python 3",
   "language": "python",
   "name": "python3"
  },
  "language_info": {
   "codemirror_mode": {
    "name": "ipython",
    "version": 3
   },
   "file_extension": ".py",
   "mimetype": "text/x-python",
   "name": "python",
   "nbconvert_exporter": "python",
   "pygments_lexer": "ipython3",
   "version": "3.6.1"
  }
 },
 "nbformat": 4,
 "nbformat_minor": 2
}
