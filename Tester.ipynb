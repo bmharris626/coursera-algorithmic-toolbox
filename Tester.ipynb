{
 "cells": [
  {
   "cell_type": "code",
   "execution_count": 252,
   "metadata": {
    "collapsed": true
   },
   "outputs": [],
   "source": [
    "import random\n",
    "import math\n",
    "import itertools"
   ]
  },
  {
   "cell_type": "code",
   "execution_count": 184,
   "metadata": {},
   "outputs": [],
   "source": [
    "def fibonacci_partial_sum_naive(from_, to):\n",
    "    sum, current, next = 0, 0, 1\n",
    "    for i in range(to + 1):\n",
    "        if i >= from_: sum += current\n",
    "        current, next = next, current + next\n",
    "    return sum % 10\n",
    "\n",
    "def fibonacci_partial_sum(m, n):\n",
    "    if n <= 1: return n\n",
    "    fib = [0, 1]\n",
    "    prv, cur = 0, 1\n",
    "    for i in range(0, 59):\n",
    "        prv, cur = cur, (prv + cur) % 10\n",
    "        if i == n - 2:\n",
    "            fib.append(cur % 10)\n",
    "            return sum(fib[m:n+1]) % 10\n",
    "        fib.append(cur)\n",
    "    sm = sum(fib[m%60:]) + sum(fib[:n%60 + 1])  \n",
    "    return sm % 10"
   ]
  },
  {
   "cell_type": "code",
   "execution_count": 189,
   "metadata": {
    "collapsed": true
   },
   "outputs": [],
   "source": [
    "def stress_test(nx):\n",
    "    i = 0\n",
    "    while True:\n",
    "        n = random.randint(0, nx)\n",
    "        m = random.randint(0, n)\n",
    "        print(m, n)\n",
    "        res1 = fibonacci_partial_sum_naive(m, n)\n",
    "        res2 = fibonacci_partial_sum(m, n)\n",
    "        if (res1 != res2):\n",
    "            print(\"Wrong answer:\", res1, res2)\n",
    "            break\n",
    "        elif i == nx: break;\n",
    "        else: print(\"OK\")\n",
    "        i += 1\n"
   ]
  }
 ],
 "metadata": {
  "kernelspec": {
   "display_name": "Python 3",
   "language": "python",
   "name": "python3"
  },
  "language_info": {
   "codemirror_mode": {
    "name": "ipython",
    "version": 3
   },
   "file_extension": ".py",
   "mimetype": "text/x-python",
   "name": "python",
   "nbconvert_exporter": "python",
   "pygments_lexer": "ipython3",
   "version": "3.5.4"
  }
 },
 "nbformat": 4,
 "nbformat_minor": 2
}
