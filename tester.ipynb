{
 "cells": [
  {
   "cell_type": "code",
   "execution_count": null,
   "metadata": {
    "collapsed": true
   },
   "outputs": [],
   "source": [
    "def get_number_of_inversions(a, b, left, right):\n",
    "    number_of_inversions = 0\n",
    "    if right - left <= 1:\n",
    "        return number_of_inversions\n",
    "    ave = (left + right) // 2\n",
    "    number_of_inversions += get_number_of_inversions(a, b, left, ave)\n",
    "    number_of_inversions += get_number_of_inversions(a, b, ave, right)\n",
    "    #write your code here\n",
    "    return number_of_inversions"
   ]
  },
  {
   "cell_type": "code",
   "execution_count": null,
   "metadata": {},
   "outputs": [],
   "source": []
  },
  {
   "cell_type": "code",
   "execution_count": null,
   "metadata": {},
   "outputs": [],
   "source": []
  },
  {
   "cell_type": "code",
   "execution_count": null,
   "metadata": {},
   "outputs": [],
   "source": [
    "from random import randint\n",
    "\n",
    "boolean = True\n",
    "while boolean:\n",
    "    A = [randint(0, 10) for i in range(10)]\n",
    "    B = A.copy()\n",
    "    B.sort()\n",
    "    randomized_quick_sort(A, 0, len(A) - 1)\n",
    "    if (A != B):\n",
    "        print(\"Wrong answer: \\n\\t\", A, \"\\n\\t\", B)\n",
    "        boolean = False\n",
    "        break"
   ]
  },
  {
   "cell_type": "code",
   "execution_count": null,
   "metadata": {
    "collapsed": true
   },
   "outputs": [],
   "source": []
  }
 ],
 "metadata": {
  "kernelspec": {
   "display_name": "Python 3",
   "language": "python",
   "name": "python3"
  },
  "language_info": {
   "codemirror_mode": {
    "name": "ipython",
    "version": 3
   },
   "file_extension": ".py",
   "mimetype": "text/x-python",
   "name": "python",
   "nbconvert_exporter": "python",
   "pygments_lexer": "ipython3",
   "version": "3.6.1"
  }
 },
 "nbformat": 4,
 "nbformat_minor": 2
}
