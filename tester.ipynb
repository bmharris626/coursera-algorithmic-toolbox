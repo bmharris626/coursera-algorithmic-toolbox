{
 "cells": [
  {
   "cell_type": "code",
   "execution_count": 40,
   "metadata": {
    "collapsed": true
   },
   "outputs": [],
   "source": [
    "def naive_optimal_weight(W, w):\n",
    "    # write your code here\n",
    "    result = 0\n",
    "    for x in w:\n",
    "        if result + x <= W:\n",
    "            result = result + x\n",
    "    return result"
   ]
  },
  {
   "cell_type": "code",
   "execution_count": 97,
   "metadata": {},
   "outputs": [],
   "source": [
    "def optimal_weight(W, w):\n",
    "    w.insert(0, 0)\n",
    "    value = dict()\n",
    "    n = len(w)\n",
    "    for i in range(n + 1):\n",
    "        for wt in range(W + 1):\n",
    "            if i == 0 or wt == 0: value[(wt, i)] = 0\n",
    "            else: \n",
    "                value[(wt, i)] = value[(wt, i - 1)]\n",
    "                if w[i] <= wt:\n",
    "                    val = value[(wt-w[i], i-1)] + w[i]\n",
    "                    if val > value[(wt, i)]: value[(wt, i)] = val\n",
    "    return value[(W, n)]"
   ]
  },
  {
   "cell_type": "code",
   "execution_count": 98,
   "metadata": {},
   "outputs": [
    {
     "data": {
      "text/plain": [
       "10"
      ]
     },
     "execution_count": 98,
     "metadata": {},
     "output_type": "execute_result"
    }
   ],
   "source": [
    "optimal_weight(10, [3, 5, 3, 3, 5])"
   ]
  },
  {
   "cell_type": "code",
   "execution_count": 70,
   "metadata": {},
   "outputs": [
    {
     "data": {
      "text/plain": [
       "5"
      ]
     },
     "execution_count": 70,
     "metadata": {},
     "output_type": "execute_result"
    }
   ],
   "source": [
    "naive_optimal_weight(10, [1, 4, 8])"
   ]
  },
  {
   "cell_type": "code",
   "execution_count": 99,
   "metadata": {},
   "outputs": [
    {
     "data": {
      "text/plain": [
       "('(', '1', ',', ' ', '1', ')')"
      ]
     },
     "execution_count": 99,
     "metadata": {},
     "output_type": "execute_result"
    }
   ],
   "source": [
    "tuple(\"(1, 1)\")"
   ]
  },
  {
   "cell_type": "code",
   "execution_count": 100,
   "metadata": {},
   "outputs": [
    {
     "data": {
      "text/plain": [
       "('1', '1')"
      ]
     },
     "execution_count": 100,
     "metadata": {},
     "output_type": "execute_result"
    }
   ],
   "source": [
    "tuple(\"11\")"
   ]
  },
  {
   "cell_type": "code",
   "execution_count": null,
   "metadata": {
    "collapsed": true
   },
   "outputs": [],
   "source": []
  }
 ],
 "metadata": {
  "kernelspec": {
   "display_name": "Python 3",
   "language": "python",
   "name": "python3"
  },
  "language_info": {
   "codemirror_mode": {
    "name": "ipython",
    "version": 3
   },
   "file_extension": ".py",
   "mimetype": "text/x-python",
   "name": "python",
   "nbconvert_exporter": "python",
   "pygments_lexer": "ipython3",
   "version": "3.6.1"
  }
 },
 "nbformat": 4,
 "nbformat_minor": 2
}
