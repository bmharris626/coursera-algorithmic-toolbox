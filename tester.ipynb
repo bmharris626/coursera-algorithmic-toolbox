{
 "cells": [
  {
   "cell_type": "code",
   "execution_count": 298,
   "metadata": {
    "collapsed": true
   },
   "outputs": [],
   "source": [
    "def lcs3(a, b, c):\n",
    "    a.insert(0, 0)\n",
    "    b.insert(0, 0)\n",
    "    c.insert(0, 0)\n",
    "    \n",
    "    an, bn, cn = len(a), len(b), len(c)\n",
    "    \n",
    "    D = list()\n",
    "    for i in range(an):\n",
    "        D.append(list())\n",
    "        for j in range(bn):\n",
    "            D[i].append(list())\n",
    "            for k in range(0, cn):\n",
    "                D[i][j].append(None)\n",
    "                \n",
    "    for i in range(an):\n",
    "        D[i][0][0] = i\n",
    "    for j in range(bn):\n",
    "        D[0][j][0] = j\n",
    "    for k in range(cn):\n",
    "        D[0][0][k] = k\n",
    "        \n",
    "    \n",
    "    for k in range(1, cn):\n",
    "        for j in range(1, bn):\n",
    "            for i in range(1, an):\n",
    "                # insertion\n",
    "                op1 = D[i][j-1][k]\n",
    "                op2 = D[i][j][k-1]\n",
    "                op3 = D[i][j-1][k-1]\n",
    "                # deletion\n",
    "                op3 = D[i-1][j][k]\n",
    "                op4 = D[i-1][j-1][k]\n",
    "                op5 = D[i-1][j][k-1]\n",
    "                # match\n",
    "                op4 = D[i-1][j-1][k-1] + 1\n",
    "                # mismatch\n",
    "                op5 = D[i-1][j-1][k-1]\n",
    "                if a[i] == b[j] == c[k]:\n",
    "                    D[i][j][k] = max([op1, op2, op3, op4])\n",
    "                else:\n",
    "                    D[i][j][k] = max([op1, op2, op3, op5])\n",
    "    return D\n",
    "    \n",
    "    \n",
    "#     for i in range(an):\n",
    "#         D.append([i])\n",
    "#     for j in range(1, bn):\n",
    "#         D[0].append([j])\n",
    "#     for k in range():\n",
    "#         D\n",
    "    \n",
    "    \n",
    "#     for j in range(1, bn):\n",
    "#         for i in range(1, an):\n",
    "#             insertion = D[i][j-1]\n",
    "#             deletion = D[i-1][j]\n",
    "#             match = D[i-1][j-1] + 1\n",
    "#             mismatch = D[i-1][j-1]\n",
    "#             if a[i] == b[j]:\n",
    "#                 D[i].append(max([insertion, deletion, match]))\n",
    "#             else:\n",
    "#                 D[i].append(max([insertion, deletion, mismatch]))\n",
    "    \n",
    "    return D"
   ]
  },
  {
   "cell_type": "code",
   "execution_count": 299,
   "metadata": {
    "collapsed": true
   },
   "outputs": [],
   "source": [
    "def edit_distance(s, t):\n",
    "    s = list(s)\n",
    "    t = list(t)\n",
    "    s.insert(0, 0)\n",
    "    t.insert(0, 0)\n",
    "    n, m = len(s), len(t)\n",
    "    D = [[i] for i in range(n)]\n",
    "    D[0] = [j for j in range(m)]\n",
    "    \n",
    "    for j in range(1, m):\n",
    "        for i in range(1, n):\n",
    "            insertion = D[i][j-1] + 1\n",
    "            deletion = D[i-1][j] + 1\n",
    "            match = D[i-1][j-1]\n",
    "            mismatch = D[i-1][j-1] + 1\n",
    "            if s[i] == t[j]:\n",
    "                D[i].append(min([insertion, deletion, match]))\n",
    "            else:\n",
    "                D[i].append(min([insertion, deletion, mismatch]))\n",
    "    return D"
   ]
  },
  {
   "cell_type": "code",
   "execution_count": 300,
   "metadata": {},
   "outputs": [
    {
     "ename": "TypeError",
     "evalue": "unorderable types: NoneType() > NoneType()",
     "output_type": "error",
     "traceback": [
      "\u001b[1;31m---------------------------------------------------------------------------\u001b[0m",
      "\u001b[1;31mTypeError\u001b[0m                                 Traceback (most recent call last)",
      "\u001b[1;32m<ipython-input-300-aa04e5c750b2>\u001b[0m in \u001b[0;36m<module>\u001b[1;34m()\u001b[0m\n\u001b[1;32m----> 1\u001b[1;33m \u001b[0mlcs3\u001b[0m\u001b[1;33m(\u001b[0m\u001b[1;33m[\u001b[0m\u001b[1;36m1\u001b[0m\u001b[1;33m,\u001b[0m \u001b[1;36m2\u001b[0m\u001b[1;33m,\u001b[0m \u001b[1;36m3\u001b[0m\u001b[1;33m]\u001b[0m\u001b[1;33m,\u001b[0m \u001b[1;33m[\u001b[0m\u001b[1;36m2\u001b[0m\u001b[1;33m,\u001b[0m \u001b[1;36m3\u001b[0m\u001b[1;33m,\u001b[0m \u001b[1;36m1\u001b[0m\u001b[1;33m]\u001b[0m\u001b[1;33m,\u001b[0m \u001b[1;33m[\u001b[0m\u001b[1;36m1\u001b[0m\u001b[1;33m,\u001b[0m \u001b[1;36m3\u001b[0m\u001b[1;33m,\u001b[0m \u001b[1;36m5\u001b[0m\u001b[1;33m]\u001b[0m\u001b[1;33m)\u001b[0m\u001b[1;33m\u001b[0m\u001b[0m\n\u001b[0m",
      "\u001b[1;32m<ipython-input-298-d4c3c79194ca>\u001b[0m in \u001b[0;36mlcs3\u001b[1;34m(a, b, c)\u001b[0m\n\u001b[0;32m     40\u001b[0m                     \u001b[0mD\u001b[0m\u001b[1;33m[\u001b[0m\u001b[0mi\u001b[0m\u001b[1;33m]\u001b[0m\u001b[1;33m[\u001b[0m\u001b[0mj\u001b[0m\u001b[1;33m]\u001b[0m\u001b[1;33m[\u001b[0m\u001b[0mk\u001b[0m\u001b[1;33m]\u001b[0m \u001b[1;33m=\u001b[0m \u001b[0mmax\u001b[0m\u001b[1;33m(\u001b[0m\u001b[1;33m[\u001b[0m\u001b[0mop1\u001b[0m\u001b[1;33m,\u001b[0m \u001b[0mop2\u001b[0m\u001b[1;33m,\u001b[0m \u001b[0mop3\u001b[0m\u001b[1;33m,\u001b[0m \u001b[0mop4\u001b[0m\u001b[1;33m]\u001b[0m\u001b[1;33m)\u001b[0m\u001b[1;33m\u001b[0m\u001b[0m\n\u001b[0;32m     41\u001b[0m                 \u001b[1;32melse\u001b[0m\u001b[1;33m:\u001b[0m\u001b[1;33m\u001b[0m\u001b[0m\n\u001b[1;32m---> 42\u001b[1;33m                     \u001b[0mD\u001b[0m\u001b[1;33m[\u001b[0m\u001b[0mi\u001b[0m\u001b[1;33m]\u001b[0m\u001b[1;33m[\u001b[0m\u001b[0mj\u001b[0m\u001b[1;33m]\u001b[0m\u001b[1;33m[\u001b[0m\u001b[0mk\u001b[0m\u001b[1;33m]\u001b[0m \u001b[1;33m=\u001b[0m \u001b[0mmax\u001b[0m\u001b[1;33m(\u001b[0m\u001b[1;33m[\u001b[0m\u001b[0mop1\u001b[0m\u001b[1;33m,\u001b[0m \u001b[0mop2\u001b[0m\u001b[1;33m,\u001b[0m \u001b[0mop3\u001b[0m\u001b[1;33m,\u001b[0m \u001b[0mop5\u001b[0m\u001b[1;33m]\u001b[0m\u001b[1;33m)\u001b[0m\u001b[1;33m\u001b[0m\u001b[0m\n\u001b[0m\u001b[0;32m     43\u001b[0m     \u001b[1;32mreturn\u001b[0m \u001b[0mD\u001b[0m\u001b[1;33m\u001b[0m\u001b[0m\n\u001b[0;32m     44\u001b[0m \u001b[1;33m\u001b[0m\u001b[0m\n",
      "\u001b[1;31mTypeError\u001b[0m: unorderable types: NoneType() > NoneType()"
     ]
    }
   ],
   "source": [
    "lcs3([1, 2, 3], [2, 3, 1], [1, 3, 5])"
   ]
  },
  {
   "cell_type": "code",
   "execution_count": 250,
   "metadata": {},
   "outputs": [
    {
     "data": {
      "text/plain": [
       "[[0, 1, 2, 3, 4, 5],\n",
       " [1, 1, 2, 3, 4, 4],\n",
       " [2, 2, 2, 3, 4, 5],\n",
       " [3, 3, 2, 3, 4, 5],\n",
       " [4, 4, 3, 2, 3, 4],\n",
       " [5, 5, 4, 3, 2, 3]]"
      ]
     },
     "execution_count": 250,
     "metadata": {},
     "output_type": "execute_result"
    }
   ],
   "source": [
    "edit_distance(\"short\", \"ports\")"
   ]
  },
  {
   "cell_type": "code",
   "execution_count": 270,
   "metadata": {},
   "outputs": [
    {
     "name": "stdout",
     "output_type": "stream",
     "text": [
      "[[[0], [1], [2]], [[0], [1], [2]], [[0], [1], [2]], [[0], [1], [2]]]\n",
      "[[[0], [1], [2]], [[0], [1], [2]], [[0], [1], [2]], [[0], [1], [2]]]\n",
      "[[[0], [1], [2]], [[0], [1], [2]], [[0], [1], [2]], [[0], [1], [2]]]\n",
      "[[[0], [1], [2]], [[0], [1], [2]], [[0], [1], [2]], [[0], [1], [2]]]\n"
     ]
    }
   ],
   "source": [
    "ans = lcs3([1, 2, 3], [2, 3, 1], [1, 3, 5])\n",
    "for line in ans:\n",
    "    print(line)"
   ]
  },
  {
   "cell_type": "code",
   "execution_count": null,
   "metadata": {
    "collapsed": true
   },
   "outputs": [],
   "source": []
  }
 ],
 "metadata": {
  "kernelspec": {
   "display_name": "Python [default]",
   "language": "python",
   "name": "python3"
  },
  "language_info": {
   "codemirror_mode": {
    "name": "ipython",
    "version": 3
   },
   "file_extension": ".py",
   "mimetype": "text/x-python",
   "name": "python",
   "nbconvert_exporter": "python",
   "pygments_lexer": "ipython3",
   "version": "3.5.3"
  }
 },
 "nbformat": 4,
 "nbformat_minor": 2
}
