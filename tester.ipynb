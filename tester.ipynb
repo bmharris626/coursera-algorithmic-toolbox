{
 "cells": [
  {
   "cell_type": "code",
   "execution_count": 237,
   "metadata": {},
   "outputs": [],
   "source": [
    "import random\n",
    "\n",
    "def lte(a, b):\n",
    "    d = {'p': 1, 's': 0, 'e': 2}\n",
    "    if a == b: return True\n",
    "    if a[0] == b[0]: return d[a[1]] < d[b[1]]\n",
    "    return a[0] < b[0]\n",
    "\n",
    "def partition3(a, l, r):\n",
    "    x = a[l]\n",
    "    m1, m2 = l, l\n",
    "    for i in range(l + 1, r + 1):\n",
    "        y = a[i]\n",
    "        if lte(y, x):\n",
    "            m1 += 1\n",
    "            a[i], a[m1] = a[m1], a[i]\n",
    "        if y == x:\n",
    "            m2 += 1\n",
    "            a[m1], a[m2] = a[m2], a[m1]\n",
    "    j = 0\n",
    "    for i in range(l, m2 + 1):\n",
    "        a[i], a[m1 - j] = a[m1 - j], a[i]\n",
    "        j += 1\n",
    "    return m1, m1 - j\n",
    "\n",
    "def randomized_quick_sort(a, l, r):\n",
    "    if l >= r: return\n",
    "    k = random.randint(l, r)\n",
    "    a[l], a[k] = a[k], a[l]\n",
    "    m1, m2 = partition3(a, l, r)\n",
    "    randomized_quick_sort(a, l, m2)\n",
    "    randomized_quick_sort(a, m1 + 1, r)\n",
    "\n",
    "def fast_count_segments(starts, ends, points):\n",
    "    a = list(zip(starts, len(starts)*'s'))\n",
    "    a.extend(list(zip(ends, len(ends)*'e')))\n",
    "    a.extend(list(zip(points, len(points)*'p')))\n",
    "    randomized_quick_sort(a, 0, len(a) - 1)\n",
    "    n = len(ends)\n",
    "    s, e, = 0, n\n",
    "    p = dict()\n",
    "    for element, typ in a:\n",
    "        if typ == 'e': e -= 1\n",
    "        elif typ == 's': s += 1\n",
    "        else: p[element] = e + s - n\n",
    "    cnt = list()\n",
    "    for pnt in points:\n",
    "        cnt.append(p[pnt])\n",
    "    return cnt\n",
    "\n",
    "def naive_count_segments(starts, ends, points):\n",
    "    cnt = [0] * len(points)\n",
    "    for i in range(len(points)):\n",
    "        for j in range(len(starts)):\n",
    "            if starts[j] <= points[i] <= ends[j]:\n",
    "                cnt[i] += 1\n",
    "    return cnt"
   ]
  },
  {
   "cell_type": "code",
   "execution_count": 238,
   "metadata": {},
   "outputs": [],
   "source": [
    "for i in range(100):\n",
    "    starts = [random.randint(0, 10000) for i in range(1000)]\n",
    "    ends = [random.randint(starts[i], 10000) for i in range(len(starts))]\n",
    "    points = [random.randint(0, 10) for i in range(100)]\n",
    "    t1 = naive_count_segments(starts, ends, points)\n",
    "    t2 = fast_count_segments(starts, ends, points)\n",
    "    if t1 != t2:\n",
    "        print(\"starts = {}\".format(str(starts)))\n",
    "        print(\"ends = {}\".format(str(ends)))\n",
    "        print(\"points = {}\".format(str(points)))\n",
    "        print(\"t1 = {}\".format(str(t1)))\n",
    "        print(\"t2 = {}\".format(str(t2)))\n",
    "        break"
   ]
  },
  {
   "cell_type": "code",
   "execution_count": 239,
   "metadata": {
    "collapsed": true
   },
   "outputs": [],
   "source": [
    "starts = [random.randint(0, 10000) for i in range(1000)]\n",
    "ends = [random.randint(starts[i], 1000000) for i in range(len(starts))]\n",
    "points = [random.randint(0, 100000) for i in range(5000)]"
   ]
  },
  {
   "cell_type": "code",
   "execution_count": 242,
   "metadata": {},
   "outputs": [
    {
     "name": "stdout",
     "output_type": "stream",
     "text": [
      "Wall time: 2.7 s\n"
     ]
    }
   ],
   "source": [
    "%time t1 = naive_count_segments(starts, ends, points)"
   ]
  },
  {
   "cell_type": "code",
   "execution_count": 243,
   "metadata": {},
   "outputs": [
    {
     "name": "stdout",
     "output_type": "stream",
     "text": [
      "Wall time: 302 ms\n"
     ]
    }
   ],
   "source": [
    "%time t2 = fast_count_segments(starts, ends, points)"
   ]
  },
  {
   "cell_type": "code",
   "execution_count": null,
   "metadata": {
    "collapsed": true
   },
   "outputs": [],
   "source": []
  }
 ],
 "metadata": {
  "kernelspec": {
   "display_name": "Python [default]",
   "language": "python",
   "name": "python3"
  },
  "language_info": {
   "codemirror_mode": {
    "name": "ipython",
    "version": 3
   },
   "file_extension": ".py",
   "mimetype": "text/x-python",
   "name": "python",
   "nbconvert_exporter": "python",
   "pygments_lexer": "ipython3",
   "version": "3.5.3"
  }
 },
 "nbformat": 4,
 "nbformat_minor": 2
}
