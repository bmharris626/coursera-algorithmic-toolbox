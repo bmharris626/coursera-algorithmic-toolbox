{
 "cells": [
  {
   "cell_type": "code",
   "execution_count": null,
   "metadata": {},
   "outputs": [],
   "source": [
    "def evalt(a, b, op):\n",
    "    if op == '+':\n",
    "        return a + b\n",
    "    elif op == '-':\n",
    "        return a - b\n",
    "    elif op == '*':\n",
    "        return a * b\n",
    "    else:\n",
    "        assert False\n",
    "\n",
    "def get_maximum_value(dataset):\n",
    "    #write your code here\n",
    "    return 0"
   ]
  },
  {
   "cell_type": "code",
   "execution_count": 31,
   "metadata": {},
   "outputs": [],
   "source": [
    "def MinAndMax(i, j, op):\n",
    "    mn = float('inf')\n",
    "    mx = -float('inf')\n",
    "    for k in range(i, j):\n",
    "        a = str(M[i][k]) + op[k] + str(M[k+1][j])\n",
    "        a = exec(a)\n",
    "        b = str(M[i][k]) + op[k] + str(m[k+1][j])\n",
    "        b = exec(b)\n",
    "        c = str(m[i][k]) + op[k] + str(M[k+1][j])\n",
    "        c = exec(c)\n",
    "        d = str(m[i][k]) + op[k] + str(M[k+1][j])\n",
    "        d = exec(d)\n",
    "        mn = min([mn, a, b, c, d])\n",
    "        mx = min([mx, a, b, c, d])\n",
    "    return mn, mx\n",
    "\n",
    "def Parentheses(dataset):\n",
    "    D, OP = list(), list()\n",
    "    for i, c in enumerate(dataset):\n",
    "        if i%2 == 0: D.append(int(c))\n",
    "        else: OP.append(c)\n",
    "    n = len(D)\n",
    "    row = [None for i in range(n)]\n",
    "    m = [row.copy() for i in range(n)]\n",
    "    for i in range(n):\n",
    "        m[i][i] = D[i]\n",
    "    M = m.copy()\n",
    "    for s in range(n):\n",
    "        for i in range(s-n):\n",
    "            j = i + s\n",
    "            m[i][j], M[i][j] = MinAndMax(i, j, OP)\n",
    "    return M"
   ]
  },
  {
   "cell_type": "code",
   "execution_count": 32,
   "metadata": {},
   "outputs": [
    {
     "data": {
      "text/plain": [
       "[[5, None, None, None, None, None],\n",
       " [None, 8, None, None, None, None],\n",
       " [None, None, 7, None, None, None],\n",
       " [None, None, None, 4, None, None],\n",
       " [None, None, None, None, 8, None],\n",
       " [None, None, None, None, None, 9]]"
      ]
     },
     "execution_count": 32,
     "metadata": {},
     "output_type": "execute_result"
    }
   ],
   "source": [
    "Parentheses(\"5-8+7*4-8+9\")"
   ]
  },
  {
   "cell_type": "code",
   "execution_count": null,
   "metadata": {
    "collapsed": true
   },
   "outputs": [],
   "source": []
  }
 ],
 "metadata": {
  "kernelspec": {
   "display_name": "Python [default]",
   "language": "python",
   "name": "python3"
  },
  "language_info": {
   "codemirror_mode": {
    "name": "ipython",
    "version": 3
   },
   "file_extension": ".py",
   "mimetype": "text/x-python",
   "name": "python",
   "nbconvert_exporter": "python",
   "pygments_lexer": "ipython3",
   "version": "3.5.3"
  }
 },
 "nbformat": 4,
 "nbformat_minor": 2
}
