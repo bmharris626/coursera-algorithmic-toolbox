{
 "cells": [
  {
   "cell_type": "code",
   "execution_count": null,
   "metadata": {
    "collapsed": true
   },
   "outputs": [],
   "source": [
    "def partition3(a, l, r):\n",
    "    x = a[l]\n",
    "    m1, m2 = l, l\n",
    "    for i in range(l + 1, r + 1):\n",
    "        y = a[i]\n",
    "        if y <= x:\n",
    "            m1 += 1\n",
    "            a[i], a[m1] = a[m1], a[i]\n",
    "        if y == x:\n",
    "            m2 += 1\n",
    "            a[m1], a[m2] = a[m2], a[m1]\n",
    "    j = 0\n",
    "    for i in range(l, m2 + 1):\n",
    "        a[i], a[m1 - j] = a[m1 - j], a[i]\n",
    "        j += 1\n",
    "    return m1, m1 - j\n",
    "\n",
    "def randomized_quick_sort(a, l, r):\n",
    "    if l >= r: return\n",
    "    k = random.randint(l, r)\n",
    "    a[l], a[k] = a[k], a[l]\n",
    "    m1, m2 = partition3(a, l, r)\n",
    "    randomized_quick_sort(a, l, m2)\n",
    "    randomized_quick_sort(a, m1 + 1, r)"
   ]
  },
  {
   "cell_type": "code",
   "execution_count": 11,
   "metadata": {
    "collapsed": true
   },
   "outputs": [],
   "source": [
    "def merge_sort(A):\n",
    "    n = len(A)\n",
    "    if n == 1: return A\n",
    "    m = n // 2\n",
    "    B = merge_sort(A[:m])\n",
    "    C = merge_sort(A[m:])\n",
    "    A1 = merge(B, C)\n",
    "    return A1\n",
    "\n",
    "def merge(B, C):\n",
    "    D = list()\n",
    "    while (len(B) > 0) and (len(C) > 0):\n",
    "        if B[0] <= C[0]: D.append(B.pop(0))\n",
    "        else: D.append(C.pop(0))\n",
    "    D.extend(B)\n",
    "    D.extend(C)\n",
    "    return D"
   ]
  },
  {
   "cell_type": "code",
   "execution_count": 9,
   "metadata": {},
   "outputs": [
    {
     "name": "stdout",
     "output_type": "stream",
     "text": [
      "[(0, 's'), (2, 's'), (3, 's'), (4, 'e'), (6, 'e'), (4, 'e')]\n"
     ]
    }
   ],
   "source": [
    "starts = [0, 2, 3]\n",
    "ends = [4, 6, 4]\n",
    "S = zip(starts, 's'*len(starts))\n",
    "E = zip(ends, 'e'*len(starts))\n",
    "A = list(S) + list(E)\n",
    "print(A)"
   ]
  },
  {
   "cell_type": "code",
   "execution_count": 21,
   "metadata": {
    "collapsed": true
   },
   "outputs": [],
   "source": [
    "def fast_count_segments(starts, ends, points):\n",
    "    S = list(zip(starts, 's'*len(starts)))\n",
    "    E = list(zip(ends, 'e'*len(ends)))\n",
    "    P = list(zip(points, 'p'*len(points)))\n",
    "    A = S + E + P\n",
    "    A.sort(key=lambda x: x[0])\n",
    "    cnt = list()\n",
    "    s = 0\n",
    "    for a in A:\n",
    "        if a[1] == 's': s += 1\n",
    "        if a[1] == 'e': s -= 1\n",
    "        if a[1] == 'p': cnt.append(s)\n",
    "    return cnt\n",
    "\n",
    "def naive_count_segments(starts, ends, points):\n",
    "    cnt = [0] * len(points)\n",
    "    for i in range(len(points)):\n",
    "        for j in range(len(starts)):\n",
    "            if starts[j] <= points[i] <= ends[j]:\n",
    "                cnt[i] += 1\n",
    "    return cnt"
   ]
  },
  {
   "cell_type": "code",
   "execution_count": 22,
   "metadata": {},
   "outputs": [
    {
     "data": {
      "text/plain": [
       "[1, 0, 0]"
      ]
     },
     "execution_count": 22,
     "metadata": {},
     "output_type": "execute_result"
    }
   ],
   "source": [
    "starts = [0, 7]\n",
    "ends = [5, 10]\n",
    "points = [1, 6, 11]\n",
    "naive_count_segments(starts, ends, points)"
   ]
  },
  {
   "cell_type": "code",
   "execution_count": 23,
   "metadata": {},
   "outputs": [
    {
     "data": {
      "text/plain": [
       "[1, 0, 0]"
      ]
     },
     "execution_count": 23,
     "metadata": {},
     "output_type": "execute_result"
    }
   ],
   "source": [
    "starts = [0, 7]\n",
    "ends = [5, 10]\n",
    "points = [1, 6, 11]\n",
    "fast_count_segments(starts, ends, points)"
   ]
  },
  {
   "cell_type": "code",
   "execution_count": 12,
   "metadata": {
    "collapsed": true
   },
   "outputs": [],
   "source": [
    "from random import randint"
   ]
  },
  {
   "cell_type": "code",
   "execution_count": null,
   "metadata": {
    "collapsed": true
   },
   "outputs": [],
   "source": [
    "boolean = True\n",
    "while boolean:\n",
    "    A = [randint(0, 10) for i in range(10)]\n",
    "    B = A.copy()\n",
    "    B.sort()\n",
    "    randomized_quick_sort(A, 0, len(A) - 1)\n",
    "    if (A != B):\n",
    "        print(\"Wrong answer: \\n\\t\", A, \"\\n\\t\", B)\n",
    "        boolean = False\n",
    "        break"
   ]
  },
  {
   "cell_type": "code",
   "execution_count": null,
   "metadata": {
    "collapsed": true
   },
   "outputs": [],
   "source": []
  }
 ],
 "metadata": {
  "kernelspec": {
   "display_name": "Python 3",
   "language": "python",
   "name": "python3"
  },
  "language_info": {
   "codemirror_mode": {
    "name": "ipython",
    "version": 3
   },
   "file_extension": ".py",
   "mimetype": "text/x-python",
   "name": "python",
   "nbconvert_exporter": "python",
   "pygments_lexer": "ipython3",
   "version": "3.5.4"
  }
 },
 "nbformat": 4,
 "nbformat_minor": 2
}
