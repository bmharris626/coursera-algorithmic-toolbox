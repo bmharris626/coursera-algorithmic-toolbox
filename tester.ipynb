{
 "cells": [
  {
   "cell_type": "code",
   "execution_count": 184,
   "metadata": {},
   "outputs": [],
   "source": [
    "import math\n",
    "    \n",
    "def distance(p1, p2):\n",
    "    x1, y1 = p1\n",
    "    x2, y2 = p2\n",
    "    d = math.sqrt((x1 - x2)**2 + (y1 - y2)**2)\n",
    "    return round(d, 4)\n",
    "\n",
    "def closest_pair(P):\n",
    "    n = len(P)\n",
    "    if n == 1: return float('inf')\n",
    "    if n == 2: return distance(P[0], P[1])\n",
    "    mid = int(n/2)\n",
    "    dl = closest_pair(P[:mid])\n",
    "    dr = closest_pair(P[mid:])\n",
    "    xi, yi = P[mid]\n",
    "    d = min([dl, dr])\n",
    "    M = list()\n",
    "    for p in P:\n",
    "        if xi < p[0] - d: continue\n",
    "        if xi > p[0] + d: continue\n",
    "        M.append(p)\n",
    "    M.sort(key = lambda p: p[1])\n",
    "    dm = float('inf')\n",
    "    mn = len(M)\n",
    "    for i, p in enumerate(M):\n",
    "        for j in range(7):\n",
    "            k = i + j + 1\n",
    "            if k > (mn - 1): continue\n",
    "            dk = distance(p, M[k])\n",
    "            if dk < dm: dm = dk\n",
    "    return min([dl, dr, dm])\n",
    "\n",
    "def minimum_distance(x, y):\n",
    "    P = list(zip(x, y))\n",
    "    P.sort()\n",
    "    return closest_pair(P)"
   ]
  }
 ],
 "metadata": {
  "kernelspec": {
   "display_name": "Python [default]",
   "language": "python",
   "name": "python3"
  },
  "language_info": {
   "codemirror_mode": {
    "name": "ipython",
    "version": 3
   },
   "file_extension": ".py",
   "mimetype": "text/x-python",
   "name": "python",
   "nbconvert_exporter": "python",
   "pygments_lexer": "ipython3",
   "version": "3.5.3"
  }
 },
 "nbformat": 4,
 "nbformat_minor": 2
}
