{
 "cells": [
  {
   "cell_type": "code",
   "execution_count": 40,
   "metadata": {
    "collapsed": true
   },
   "outputs": [],
   "source": [
    "def naive_optimal_weight(W, w):\n",
    "    # write your code here\n",
    "    result = 0\n",
    "    for x in w:\n",
    "        if result + x <= W:\n",
    "            result = result + x\n",
    "    return result"
   ]
  },
  {
   "cell_type": "code",
   "execution_count": 11,
   "metadata": {
    "collapsed": true
   },
   "outputs": [],
   "source": [
    "def memory_optimal_weight(W, w):\n",
    "    w.insert(0, 0)\n",
    "    value = dict()\n",
    "    i = 0\n",
    "    for i, wi in enumerate(w):\n",
    "        for wt in range(W + 1):\n",
    "            if i == 0 or wt == 0: value[(wt, i)] = 0\n",
    "            else: \n",
    "                value[(wt, i)] = value[(wt, i - 1)]\n",
    "                if wi <= wt:\n",
    "                    val = value[(wt-wi, i-1)] + wi\n",
    "                    if val > value[(wt, i)]: value[(wt, i)] = val\n",
    "    return value[(W, i)]"
   ]
  },
  {
   "cell_type": "code",
   "execution_count": 69,
   "metadata": {
    "collapsed": true
   },
   "outputs": [],
   "source": [
    "def optimal_weight(W, w):\n",
    "    w.insert(0, 0)\n",
    "    value = list()\n",
    "    i = 0   \n",
    "    for wt in range(W + 1):\n",
    "        value.append(list())\n",
    "        for i, wi in enumerate(w):\n",
    "            if i == 0 or wt == 0: value[wt].append(0)\n",
    "            else:\n",
    "                value[wt].append(value[wt][i-1])\n",
    "                if wi <= wt:\n",
    "                    val = value[wt-wi][i-1] + wi\n",
    "                    if val > value[wt][i]: value[wt][i] = val\n",
    "    print(value)\n",
    "    return value[W][i]"
   ]
  },
  {
   "cell_type": "code",
   "execution_count": 71,
   "metadata": {},
   "outputs": [],
   "source": [
    "def optimal_weight(W, w):\n",
    "    w.insert(0, 0)\n",
    "    value = [list() for i in range(W + 1)]\n",
    "    i = 0   \n",
    "    for wt in range(W + 1):\n",
    "        for i, wi in enumerate(w):\n",
    "            if i == 0 or wt == 0: value[wt].append(0)\n",
    "            else:\n",
    "                value[wt].append(value[wt][i-1])\n",
    "                if wi <= wt:\n",
    "                    val = value[wt-wi][i-1] + wi\n",
    "                    if val > value[wt][i]: value[wt][i] = val\n",
    "    print(value)\n",
    "    return value[W][i]"
   ]
  },
  {
   "cell_type": "code",
   "execution_count": 70,
   "metadata": {},
   "outputs": [
    {
     "name": "stdout",
     "output_type": "stream",
     "text": [
      "[[0, 0, 0, 0, 0, 0], [0, 0, 0, 0, 0, 0], [0, 0, 0, 0, 0, 0], [0, 3, 3, 3, 3, 3], [0, 3, 3, 3, 3, 3], [0, 3, 5, 5, 5, 5], [0, 3, 5, 6, 6, 6], [0, 3, 5, 6, 6, 6], [0, 3, 8, 8, 8, 8], [0, 3, 8, 8, 9, 9], [0, 3, 8, 8, 9, 10]]\n",
      "Wall time: 0 ns\n"
     ]
    },
    {
     "data": {
      "text/plain": [
       "10"
      ]
     },
     "execution_count": 70,
     "metadata": {},
     "output_type": "execute_result"
    }
   ],
   "source": [
    "%time optimal_weight(10, [3, 5, 3, 3, 5])"
   ]
  },
  {
   "cell_type": "code",
   "execution_count": 73,
   "metadata": {},
   "outputs": [
    {
     "name": "stdout",
     "output_type": "stream",
     "text": [
      "[[0, 0, 0, 0, 0, 0], [0, 0, 0, 0, 0, 0], [0, 0, 0, 0, 0, 0], [0, 3, 3, 3, 3, 3], [0, 3, 3, 3, 3, 3], [0, 3, 5, 5, 5, 5], [0, 3, 5, 6, 6, 6], [0, 3, 5, 6, 6, 6], [0, 3, 8, 8, 8, 8], [0, 3, 8, 8, 9, 9], [0, 3, 8, 8, 9, 10]]\n",
      "Wall time: 1e+03 µs\n"
     ]
    },
    {
     "data": {
      "text/plain": [
       "10"
      ]
     },
     "execution_count": 73,
     "metadata": {},
     "output_type": "execute_result"
    }
   ],
   "source": [
    "%time optimal_weight(10, [3, 5, 3, 3, 5])"
   ]
  },
  {
   "cell_type": "code",
   "execution_count": 26,
   "metadata": {},
   "outputs": [
    {
     "data": {
      "text/plain": [
       "9"
      ]
     },
     "execution_count": 26,
     "metadata": {},
     "output_type": "execute_result"
    }
   ],
   "source": [
    "optimal_weight(10, [1, 4, 8])"
   ]
  },
  {
   "cell_type": "code",
   "execution_count": 99,
   "metadata": {},
   "outputs": [
    {
     "data": {
      "text/plain": [
       "('(', '1', ',', ' ', '1', ')')"
      ]
     },
     "execution_count": 99,
     "metadata": {},
     "output_type": "execute_result"
    }
   ],
   "source": [
    "tuple(\"(1, 1)\")"
   ]
  },
  {
   "cell_type": "code",
   "execution_count": 100,
   "metadata": {},
   "outputs": [
    {
     "data": {
      "text/plain": [
       "('1', '1')"
      ]
     },
     "execution_count": 100,
     "metadata": {},
     "output_type": "execute_result"
    }
   ],
   "source": [
    "tuple(\"11\")"
   ]
  },
  {
   "cell_type": "code",
   "execution_count": null,
   "metadata": {
    "collapsed": true
   },
   "outputs": [],
   "source": []
  }
 ],
 "metadata": {
  "kernelspec": {
   "display_name": "Python 3",
   "language": "python",
   "name": "python3"
  },
  "language_info": {
   "codemirror_mode": {
    "name": "ipython",
    "version": 3
   },
   "file_extension": ".py",
   "mimetype": "text/x-python",
   "name": "python",
   "nbconvert_exporter": "python",
   "pygments_lexer": "ipython3",
   "version": "3.6.1"
  }
 },
 "nbformat": 4,
 "nbformat_minor": 2
}
