{
 "cells": [
  {
   "cell_type": "code",
   "execution_count": 135,
   "metadata": {},
   "outputs": [],
   "source": [
    "def IsGreaterOrEqual(digit, maxDigit):\n",
    "    if maxDigit == -float('inf'): return True\n",
    "    if digit == maxDigit: return True\n",
    "    digit, maxDigit = str(digit), str(maxDigit)    \n",
    "    n = min(len(digit), len(maxDigit))\n",
    "    if (digit[:n] > maxDigit[:n]): return True\n",
    "    if (digit[:n] == maxDigit[:n]) and (digit[:-n-1:-1] > maxDigit[:-n-1:-1]):\n",
    "        return True\n",
    "    return False\n",
    "    \n",
    "def largest_number(a):\n",
    "    res = str()\n",
    "    while len(a) > 0:\n",
    "        maxDigit = -float('inf')\n",
    "        for n in a:\n",
    "            if IsGreaterOrEqual(n, maxDigit): maxDigit = n\n",
    "        res += str(maxDigit)\n",
    "        a.remove(maxDigit)\n",
    "    return res"
   ]
  },
  {
   "cell_type": "code",
   "execution_count": 136,
   "metadata": {
    "collapsed": true
   },
   "outputs": [],
   "source": [
    "from random import randint"
   ]
  },
  {
   "cell_type": "code",
   "execution_count": 138,
   "metadata": {},
   "outputs": [
    {
     "name": "stdout",
     "output_type": "stream",
     "text": [
      "2 2691 22691 26912\n"
     ]
    }
   ],
   "source": [
    "n = 10000\n",
    "while True:\n",
    "    x, y = randint(1, n), randint(1, n)\n",
    "    t1 = str(y) + str(x)\n",
    "    t2 = t1\n",
    "    if IsGreaterOrEqual(x, y): t1 = str(x) + str(y)\n",
    "    if int(t1) < int(t2):\n",
    "        print(x, y, t1, t2)\n",
    "        break"
   ]
  },
  {
   "cell_type": "code",
   "execution_count": null,
   "metadata": {
    "collapsed": true
   },
   "outputs": [],
   "source": []
  }
 ],
 "metadata": {
  "kernelspec": {
   "display_name": "Python 3",
   "language": "python",
   "name": "python3"
  },
  "language_info": {
   "codemirror_mode": {
    "name": "ipython",
    "version": 3
   },
   "file_extension": ".py",
   "mimetype": "text/x-python",
   "name": "python",
   "nbconvert_exporter": "python",
   "pygments_lexer": "ipython3",
   "version": "3.5.4"
  }
 },
 "nbformat": 4,
 "nbformat_minor": 2
}
